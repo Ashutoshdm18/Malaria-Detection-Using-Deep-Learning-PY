{
 "cells": [
  {
   "cell_type": "code",
   "execution_count": null,
   "metadata": {
    "_cell_guid": "b1076dfc-b9ad-4769-8c92-a6c4dae69d19",
    "_uuid": "8f2839f25d086af736a60e9eeb907d3b93b6e0e5"
   },
   "outputs": [],
   "source": [
    "# This Python 3 environment comes with many helpful analytics libraries installed\n",
    "# It is defined by the kaggle/python docker image: https://github.com/kaggle/docker-python\n",
    "# For example, here's several helpful packages to load in \n",
    "\n",
    "import numpy as np # linear algebra\n",
    "import pandas as pd # data processing, CSV file I/O (e.g. pd.read_csv)\n",
    "\n",
    "# Input data files are available in the \"../input/\" directory.\n",
    "# For example, running this (by clicking run or pressing Shift+Enter) will list the files in the input directory\n",
    "\n",
    "import os\n",
    "print(os.listdir(\"C:\\\\Users\\\\INTEL\\\\Documents\\\\kaggle 97%\\\\cell-images-for-detecting-malaria\\\\cell_images\"))\n",
    "\n",
    "# Any results you write to the current directory are saved as output."
   ]
  },
  {
   "cell_type": "code",
   "execution_count": null,
   "metadata": {
    "_uuid": "59c8fbc36e71ab5539bd1cc6034cf6886638c35c"
   },
   "outputs": [],
   "source": [
    "import cv2\n",
    "import matplotlib.pyplot as plt \n",
    "import seaborn as sns\n",
    "import os\n",
    "from PIL import Image\n",
    "from keras.preprocessing.image import img_to_array\n",
    "from keras.preprocessing.image import load_img\n",
    "from keras.utils import np_utils"
   ]
  },
  {
   "cell_type": "code",
   "execution_count": null,
   "metadata": {
    "_uuid": "7a661de01863787c99ada83afa636f8b3a9670f0"
   },
   "outputs": [],
   "source": [
    "parasitized_data = os.listdir('C:\\\\Users\\\\INTEL\\\\Documents\\\\kaggle 97%\\\\cell-images-for-detecting-malaria\\\\cell_images\\\\Parasitized')\n",
    "print(parasitized_data[:10]) #the output we get are the .png files\n",
    "\n",
    "uninfected_data = os.listdir('C:\\\\Users\\\\INTEL\\\\Documents\\\\kaggle 97%\\\\cell-images-for-detecting-malaria\\\\cell_images\\\\Uninfected')\n",
    "print('\\n')\n",
    "print(uninfected_data[:10])"
   ]
  },
  {
   "cell_type": "markdown",
   "metadata": {
    "_uuid": "98ecd2e083d5c3bfc8158465e732a5fe042af8e1"
   },
   "source": [
    "**DATA VISUALIZATION**[](http://)"
   ]
  },
  {
   "cell_type": "markdown",
   "metadata": {
    "_uuid": "3c24deb9b2a4feed37e9f5a5814c799ecbd5894d"
   },
   "source": [
    "**1. PARASITIZED DATA**"
   ]
  },
  {
   "cell_type": "code",
   "execution_count": null,
   "metadata": {
    "_uuid": "6ba57170ddc6430f931117c37042d41d00e7b5ac"
   },
   "outputs": [],
   "source": [
    "plt.figure(figsize = (12,12))\n",
    "for i in range(4):\n",
    "    plt.subplot(1, 4, i+1)\n",
    "    img = cv2.imread('C:\\\\Users\\\\INTEL\\\\Documents\\\\kaggle 97%\\\\cell-images-for-detecting-malaria\\\\cell_images\\\\Parasitized' + \"/\" + parasitized_data[i])\n",
    "    plt.imshow(img)\n",
    "    plt.title('PARASITIZED : 1')\n",
    "    plt.tight_layout()\n",
    "plt.show()"
   ]
  },
  {
   "cell_type": "markdown",
   "metadata": {
    "_uuid": "c66b93bf1a700ac0b4c7b8c9dea872ce796f11a4"
   },
   "source": [
    "**2. UNINFECTTED DATA**"
   ]
  },
  {
   "cell_type": "code",
   "execution_count": null,
   "metadata": {
    "_uuid": "77567eb7e5a644c03498b58bfa38143c1035e211"
   },
   "outputs": [],
   "source": [
    "plt.figure(figsize = (12,12))\n",
    "for i in range(4):\n",
    "    plt.subplot(1, 4, i+1)\n",
    "    img = cv2.imread('C:\\\\Users\\\\INTEL\\\\Documents\\\\kaggle 97%\\\\cell-images-for-detecting-malaria\\\\cell_images\\\\Uninfected' + \"/\" + uninfected_data[i+1])\n",
    "    plt.imshow(img)\n",
    "    plt.title('UNINFECTED : 0')\n",
    "    plt.tight_layout()\n",
    "plt.show()"
   ]
  },
  {
   "cell_type": "markdown",
   "metadata": {
    "_uuid": "058cb142b10476e43251c572bc466daefcd8f133"
   },
   "source": [
    "**One can clearly see the difference between the infected and uninfected. You can observe a small clot inside the cellular image for infected while for the uninfected the cellular image is clean without any clots.**"
   ]
  },
  {
   "cell_type": "code",
   "execution_count": null,
   "metadata": {
    "_uuid": "89f4f863573c25855f53a7c5d2b35971789d7e88"
   },
   "outputs": [],
   "source": [
    "data = []\n",
    "labels = []\n",
    "for img in parasitized_data:\n",
    "    try:\n",
    "        img_read = plt.imread('C:\\\\Users\\\\INTEL\\\\Documents\\\\kaggle 97%\\\\cell-images-for-detecting-malaria\\\\cell_images\\\\Parasitized' + \"/\" + img)\n",
    "        img_resize = cv2.resize(img_read, (50, 50))\n",
    "        img_array = img_to_array(img_resize)\n",
    "        data.append(img_array)\n",
    "        labels.append(1)\n",
    "    except:\n",
    "        None\n",
    "        \n",
    "for img in uninfected_data:\n",
    "    try:\n",
    "        img_read = plt.imread('C:\\\\Users\\\\INTEL\\\\Documents\\\\kaggle 97%\\\\cell-images-for-detecting-malaria\\\\cell_images\\\\Uninfected' + \"/\" + img)\n",
    "        img_resize = cv2.resize(img_read, (50, 50))\n",
    "        img_array = img_to_array(img_resize)\n",
    "        data.append(img_array)\n",
    "        labels.append(0)\n",
    "    except:\n",
    "        None"
   ]
  },
  {
   "cell_type": "code",
   "execution_count": null,
   "metadata": {
    "_uuid": "edb2d2f12c9f683c12f546741ec50f0512a49b5c"
   },
   "outputs": [],
   "source": [
    "plt.imshow(data[0])\n",
    "plt.show()"
   ]
  },
  {
   "cell_type": "code",
   "execution_count": null,
   "metadata": {
    "_uuid": "a610fb95dcf4f138e0484348297116429563af89"
   },
   "outputs": [],
   "source": [
    "image_data = np.array(data)\n",
    "labels = np.array(labels)"
   ]
  },
  {
   "cell_type": "code",
   "execution_count": null,
   "metadata": {
    "_uuid": "8e7e836f2f44aac1151fe7ceabac77f9d1795cc9"
   },
   "outputs": [],
   "source": [
    "idx = np.arange(image_data.shape[0])\n",
    "np.random.shuffle(idx)\n",
    "image_data = image_data[idx]\n",
    "labels = labels[idx]"
   ]
  },
  {
   "cell_type": "code",
   "execution_count": null,
   "metadata": {
    "_uuid": "e6951926a19ee22f750e522b71e682e2bedef338"
   },
   "outputs": [],
   "source": [
    "from sklearn.model_selection import train_test_split\n",
    "x_train, x_test, y_train, y_test = train_test_split(image_data, labels, test_size = 0.2, random_state = 101)"
   ]
  },
  {
   "cell_type": "code",
   "execution_count": null,
   "metadata": {
    "_uuid": "3bf22f4982ba4f15f2f89307568f09fdcfa852ee"
   },
   "outputs": [],
   "source": [
    "y_train = np_utils.to_categorical(y_train, num_classes = 2)\n",
    "y_test = np_utils.to_categorical(y_test, num_classes = 2)"
   ]
  },
  {
   "cell_type": "code",
   "execution_count": null,
   "metadata": {
    "_uuid": "e9125664ed8cde29e36576928e32900fd200564e"
   },
   "outputs": [],
   "source": [
    "print(f'SHAPE OF TRAINING IMAGE DATA : {x_train.shape}')\n",
    "print(f'SHAPE OF TESTING IMAGE DATA : {x_test.shape}')\n",
    "print(f'SHAPE OF TRAINING LABELS : {y_train.shape}')\n",
    "print(f'SHAPE OF TESTING LABELS : {y_test.shape}')"
   ]
  },
  {
   "cell_type": "markdown",
   "metadata": {
    "_uuid": "c95d884fcef6181a57a0993b5584c83ca7781f49"
   },
   "source": [
    "* **BUILDING THE CNN MODEL (without data augmentation)**"
   ]
  },
  {
   "cell_type": "code",
   "execution_count": null,
   "metadata": {
    "_uuid": "866a4e2b75a07372b76a747095795f26707d11ed"
   },
   "outputs": [],
   "source": [
    "import keras\n",
    "from keras.layers import Dense, Conv2D\n",
    "from keras.layers import Flatten\n",
    "from keras.layers import MaxPooling2D, GlobalAveragePooling2D\n",
    "from keras.layers import Activation\n",
    "from keras.layers import BatchNormalization\n",
    "from keras.layers import Dropout\n",
    "from keras.models import Sequential\n",
    "from keras import backend as K\n",
    "\n",
    "from keras import optimizers"
   ]
  },
  {
   "cell_type": "code",
   "execution_count": null,
   "metadata": {
    "_uuid": "bb05508476add0d472e706a4f2cd475eb63635ec"
   },
   "outputs": [],
   "source": [
    "def CNNbuild(height, width, classes, channels):\n",
    "    model = Sequential()\n",
    "    \n",
    "    inputShape = (height, width, channels)\n",
    "    chanDim = -1\n",
    "    \n",
    "    if K.image_data_format() == 'channels_first':\n",
    "        inputShape = (channels, height, width)\n",
    "    model.add(Conv2D(32, (3,3), activation = 'relu', input_shape = inputShape))\n",
    "    model.add(MaxPooling2D(2,2))\n",
    "    model.add(BatchNormalization(axis = chanDim))\n",
    "    model.add(Dropout(0.2))\n",
    "\n",
    "    model.add(Conv2D(32, (3,3), activation = 'relu'))\n",
    "    model.add(MaxPooling2D(2,2))\n",
    "    model.add(BatchNormalization(axis = chanDim))\n",
    "    model.add(Dropout(0.2))\n",
    "\n",
    "    model.add(Conv2D(32, (3,3), activation = 'relu'))\n",
    "    model.add(MaxPooling2D(2,2))\n",
    "    model.add(BatchNormalization(axis = chanDim))\n",
    "    model.add(Dropout(0.2))\n",
    "\n",
    "    model.add(Flatten())\n",
    "    \n",
    "    model.add(Dense(512, activation = 'relu'))\n",
    "    model.add(BatchNormalization(axis = chanDim))\n",
    "    model.add(Dropout(0.5))\n",
    "    model.add(Dense(classes, activation = 'softmax'))\n",
    "    \n",
    "    return model"
   ]
  },
  {
   "cell_type": "code",
   "execution_count": null,
   "metadata": {
    "_uuid": "365a02adfd89e0e59f3c8c21a4425836002b6203"
   },
   "outputs": [],
   "source": [
    "#instantiate the model\n",
    "height = 50\n",
    "width = 50\n",
    "classes = 2\n",
    "channels = 3\n",
    "model = CNNbuild(height = height, width = width, classes = classes, channels = channels)\n",
    "model.summary()"
   ]
  },
  {
   "cell_type": "code",
   "execution_count": null,
   "metadata": {
    "_uuid": "7db9b17df502d83187c2e2af9b4259d982296357"
   },
   "outputs": [],
   "source": [
    "#compile the model\n",
    "model.compile(loss = 'categorical_crossentropy', optimizer = 'Adam', metrics = ['accuracy'])"
   ]
  },
  {
   "cell_type": "code",
   "execution_count": null,
   "metadata": {
    "_uuid": "2278ad7d92b65fc850a1217b294500e2d05f2f7d"
   },
   "outputs": [],
   "source": [
    "#fit the model onto the dataset\n",
    "h = model.fit(x_train, y_train, epochs = 20, batch_size = 32)"
   ]
  },
  {
   "cell_type": "code",
   "execution_count": null,
   "metadata": {
    "_uuid": "a4cd1ac55e2d8f5d0c3d7700b7b9b737de4b5a9b"
   },
   "outputs": [],
   "source": [
    "plt.figure(figsize = (18,8))\n",
    "plt.plot(range(20), h.history['accuracy'], label = 'Training Accuracy')\n",
    "plt.plot(range(20), h.history['loss'], label = 'Taining Loss')\n",
    "ax1.set_xticks(np.arange(0, 31, 5))\n",
    "plt.xlabel(\"Number of Epoch's\")\n",
    "plt.ylabel('Accuracy/Loss Value')\n",
    "plt.title('Training Accuracy and Training Loss')\n",
    "plt.legend(loc = \"best\")\n",
    "\n",
    "# ax2.plot(range(20), h.history['loss'], label = 'Training Loss')\n",
    "# ax2.plot(range(20), h.history['val_loss'], label = 'Validation Loss')\n",
    "# #ax2.set_xticks(np.arange(0, 31, 5))\n",
    "# ax2.set_xlabel(\"Number of Epoch's\")\n",
    "# ax2.set_ylabel('Loss Value')\n",
    "# ax2.set_title('Training Loss vs Validation Loss')\n",
    "# ax2.legend(loc = \"best\")"
   ]
  },
  {
   "cell_type": "code",
   "execution_count": null,
   "metadata": {
    "_uuid": "baa8a5925ca50faac1c809cd5c8faeba3b143b81"
   },
   "outputs": [],
   "source": [
    "#evaluate the model on test data\n",
    "predictions = model.evaluate(x_test, y_test)"
   ]
  },
  {
   "cell_type": "code",
   "execution_count": null,
   "metadata": {
    "_uuid": "cc58c1a7f89c8113cfdeb64d8c5d6e9ba9bd0ea0"
   },
   "outputs": [],
   "source": [
    "print(f'LOSS : {predictions[0]}')\n",
    "print(f'ACCURACY : {predictions[1]}')"
   ]
  },
  {
   "cell_type": "markdown",
   "metadata": {
    "_uuid": "81c10a6c53aeafda3323f1a18d92e40dd3827fa4"
   },
   "source": [
    "**The performance of the model on the test data seems to fairly good with 95.77% accuracy.**"
   ]
  },
  {
   "cell_type": "markdown",
   "metadata": {
    "_uuid": "97e629b8a2b231d825af4afabe73f0f658e48a1f"
   },
   "source": [
    "**WITH DATA AUGMENTATION**"
   ]
  },
  {
   "cell_type": "code",
   "execution_count": null,
   "metadata": {
    "_uuid": "f161b132cd2f7df5ac6124fe9c1629131fd3a105"
   },
   "outputs": [],
   "source": [
    "from keras.preprocessing.image import ImageDataGenerator"
   ]
  },
  {
   "cell_type": "code",
   "execution_count": null,
   "metadata": {
    "_uuid": "e7325b34eeda560b852ee8ea29b1ed5782df82ea"
   },
   "outputs": [],
   "source": [
    "train_datagen = ImageDataGenerator(rescale = 1/255.,\n",
    "                                  horizontal_flip = True,\n",
    "                                  width_shift_range = 0.2,\n",
    "                                  height_shift_range = 0.2,\n",
    "                                  fill_mode = 'nearest',\n",
    "                                  zoom_range = 0.3,\n",
    "                                  rotation_range = 30)\n",
    "val_datagen = ImageDataGenerator(rescale = 1/255.)\n",
    "\n",
    "train_generator = train_datagen.flow(x_train, y_train, batch_size = 64, shuffle = False)\n",
    "val_generator = val_datagen.flow(x_test, y_test, batch_size = 64, shuffle = False)"
   ]
  },
  {
   "cell_type": "code",
   "execution_count": null,
   "metadata": {
    "_uuid": "995c0798092409f4e32b68ea208cbe5a7eece0b5"
   },
   "outputs": [],
   "source": [
    "#calling the same model as above\n",
    "model_aug = CNNbuild(height = height, width = width, classes = classes, channels = channels)"
   ]
  },
  {
   "cell_type": "code",
   "execution_count": null,
   "metadata": {
    "_uuid": "7d74920e2625f07d8975312eac2bf76cc8cc9580"
   },
   "outputs": [],
   "source": [
    "#compile the model\n",
    "optim = optimizers.Adam(lr = 0.001, decay = 0.001 / 64)\n",
    "model_aug.compile(loss = 'categorical_crossentropy', optimizer = optim, metrics = ['accuracy'])"
   ]
  },
  {
   "cell_type": "code",
   "execution_count": null,
   "metadata": {
    "_uuid": "f4ef1687140dd76da4fab792ff50e73c5099f112"
   },
   "outputs": [],
   "source": [
    "#fit the model on the augmented dataset\n",
    "h_aug = model_aug.fit_generator(train_generator, steps_per_epoch = len(x_train) // 64, epochs = 20)"
   ]
  },
  {
   "cell_type": "code",
   "execution_count": null,
   "metadata": {
    "_uuid": "913388c82ace491f3f2e93dddc38622d0cc01d0c"
   },
   "outputs": [],
   "source": [
    "#evaluate the model on augmented test data\n",
    "predict = model_aug.evaluate_generator(val_generator, steps = 5)"
   ]
  },
  {
   "cell_type": "code",
   "execution_count": null,
   "metadata": {
    "_uuid": "266845dd0c00ebe8ebe3b29b822c6c8cffc785cb"
   },
   "outputs": [],
   "source": [
    "print(f'LOSS ON TEST DATA AFTER DATA AUGMENTATION : {predict[0]}')\n",
    "print(f'ACCURACY ON TEST DATA AFTER DATA AUGMENTATION : {predict[1]}')"
   ]
  },
  {
   "cell_type": "code",
   "execution_count": null,
   "metadata": {},
   "outputs": [],
   "source": []
  }
 ],
 "metadata": {
  "kernelspec": {
   "display_name": "Python 3",
   "language": "python",
   "name": "python3"
  },
  "language_info": {
   "codemirror_mode": {
    "name": "ipython",
    "version": 3
   },
   "file_extension": ".py",
   "mimetype": "text/x-python",
   "name": "python",
   "nbconvert_exporter": "python",
   "pygments_lexer": "ipython3",
   "version": "3.7.6"
  }
 },
 "nbformat": 4,
 "nbformat_minor": 1
}
